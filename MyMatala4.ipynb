{
 "cells": [
  {
   "cell_type": "code",
   "execution_count": 2,
   "metadata": {},
   "outputs": [
    {
     "name": "stdout",
     "output_type": "stream",
     "text": [
      "The destination:  איסטנבול doesn't exist. Please enter a new one\n",
      "Your file doesn't have 5 destinations. Please enter a new file with 5 destinations.\n"
     ]
    }
   ],
   "source": [
    "import requests\n",
    "import urllib\n",
    "import json\n",
    "from urllib.parse import urlparse\n",
    "import pprint\n",
    "\n",
    "api_key = \"Enter your API key here\"  #### API-key\n",
    "\n",
    "file = open('dests.txt','r',encoding ='utf-8')\n",
    "file = file.readlines() \n",
    "\n",
    "dic = {}\n",
    "Most3FarCities = {}\n",
    "final_dict = {}\n",
    "components_tup = tuple()\n",
    "\n",
    "for line in file:\n",
    "    dic[\"origins\"] = 'תל אביב'\n",
    "    dic[\"destinations\"] = line\n",
    "    dic[\"key\"] = api_key\n",
    "        \n",
    "    ##distancematrix api\n",
    "    URLdistancematrix = 'https://maps.googleapis.com/maps/api/distancematrix/json?'\n",
    "    url = URLdistancematrix + urllib.parse.urlencode(dic)\n",
    "    try:\n",
    "        response_distancematrix = requests.get(url)\n",
    "        if response_distancematrix.status_code != 200:\n",
    "            print(\"HTTP error \", response_distancematrix.status_code)\n",
    "    except:\n",
    "        print(\"Something went wrong with requests.get()\")\n",
    "        break\n",
    "    try:\n",
    "        response_distancematrix = response_distancematrix.json()\n",
    "    except:\n",
    "        print(\"Response is not in valid json format\")\n",
    "        break\n",
    "    response_distancematrix = json.dumps(response_distancematrix)\n",
    "    response_distancematrix = json.loads(response_distancematrix)\n",
    "    try:\n",
    "        distance = response_distancematrix[\"rows\"][0][\"elements\"][0][\"distance\"][\"text\"]\n",
    "        duration = response_distancematrix[\"rows\"][0][\"elements\"][0][\"duration\"][\"text\"]\n",
    "        \n",
    "        #geocoding api\n",
    "        URLgeocode =\"https://maps.googleapis.com/maps/api/geocode/json?address=%s&key=%s\" % (line,api_key)\n",
    "        response_geocode = requests.get(URLgeocode).json()\n",
    "        response_geocode = json.dumps(response_geocode)\n",
    "        response_geocode = json.loads(response_geocode)\n",
    "        longitude = response_geocode[\"results\"][0][\"geometry\"][\"location\"][\"lng\"]\n",
    "        latitude = response_geocode[\"results\"][0][\"geometry\"][\"location\"][\"lat\"]\n",
    "        \n",
    "        Most3FarCities[response_distancematrix[\"destination_addresses\"][0]] = distance\n",
    "        components_tup = (\"distance: \"+distance, \"duration: \"+str(duration), \"longitude: \"+str(longitude), \"latitude: \"+str(latitude))\n",
    "        final_dict[response_distancematrix[\"destination_addresses\"][0]] = (components_tup)\n",
    "    except:\n",
    "        print(\"The destination: \",line.rstrip(),\"doesn't exist. Please enter a new one\")\n",
    "        break\n",
    "\n",
    "listOftuple = []\n",
    "for key,value in sorted(Most3FarCities.items()):\n",
    "    new_tup = (value, key)\n",
    "    listOftuple.append(new_tup)\n",
    "listOftuple = sorted(listOftuple, reverse=True)\n",
    "\n",
    "if len(final_dict)==5:\n",
    "    pprint.pprint(final_dict) ##printing the dictionary with its components\n",
    "    print(\"\\n\")\n",
    "    print(\"The three farthest cities from Tel Aviv are:\")\n",
    "    print(listOftuple[:3]) ##printing the farthest cities from Tel Aviv\n",
    "else:\n",
    "    print(\"Your file doesn't have 5 destinations. Please enter a new file with 5 destinations.\")"
   ]
  },
  {
   "cell_type": "code",
   "execution_count": null,
   "metadata": {},
   "outputs": [],
   "source": []
  },
  {
   "cell_type": "code",
   "execution_count": null,
   "metadata": {},
   "outputs": [],
   "source": []
  }
 ],
 "metadata": {
  "kernelspec": {
   "display_name": "Python 3",
   "language": "python",
   "name": "python3"
  },
  "language_info": {
   "codemirror_mode": {
    "name": "ipython",
    "version": 3
   },
   "file_extension": ".py",
   "mimetype": "text/x-python",
   "name": "python",
   "nbconvert_exporter": "python",
   "pygments_lexer": "ipython3",
   "version": "3.8.5"
  }
 },
 "nbformat": 4,
 "nbformat_minor": 4
}
